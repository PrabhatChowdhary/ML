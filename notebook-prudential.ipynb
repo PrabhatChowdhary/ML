{
 "cells": [
  {
   "cell_type": "code",
   "execution_count": 1,
   "id": "032fb611",
   "metadata": {
    "_cell_guid": "b1076dfc-b9ad-4769-8c92-a6c4dae69d19",
    "_uuid": "8f2839f25d086af736a60e9eeb907d3b93b6e0e5",
    "execution": {
     "iopub.execute_input": "2022-10-20T20:00:06.009016Z",
     "iopub.status.busy": "2022-10-20T20:00:06.008653Z",
     "iopub.status.idle": "2022-10-20T20:00:06.020838Z",
     "shell.execute_reply": "2022-10-20T20:00:06.019760Z"
    },
    "papermill": {
     "duration": 0.023773,
     "end_time": "2022-10-20T20:00:06.023567",
     "exception": false,
     "start_time": "2022-10-20T20:00:05.999794",
     "status": "completed"
    },
    "tags": []
   },
   "outputs": [
    {
     "name": "stdout",
     "output_type": "stream",
     "text": [
      "/kaggle/input/prudential-life-insurance-assessment/train.csv.zip\n",
      "/kaggle/input/prudential-life-insurance-assessment/sample_submission.csv.zip\n",
      "/kaggle/input/prudential-life-insurance-assessment/test.csv.zip\n"
     ]
    }
   ],
   "source": [
    "# This Python 3 environment comes with many helpful analytics libraries installed\n",
    "# It is defined by the kaggle/python Docker image: https://github.com/kaggle/docker-python\n",
    "# For example, here's several helpful packages to load\n",
    "\n",
    "import numpy as np # linear algebra\n",
    "import pandas as pd # data processing, CSV file I/O (e.g. pd.read_csv)\n",
    "\n",
    "# Input data files are available in the read-only \"../input/\" directory\n",
    "# For example, running this (by clicking run or pressing Shift+Enter) will list all files under the input directory\n",
    "\n",
    "import os\n",
    "for dirname, _, filenames in os.walk('/kaggle/input'):\n",
    "    for filename in filenames:\n",
    "        print(os.path.join(dirname, filename))\n",
    "\n",
    "# You can write up to 20GB to the current directory (/kaggle/working/) that gets preserved as output when you create a version using \"Save & Run All\" \n",
    "# You can also write temporary files to /kaggle/temp/, but they won't be saved outside of the current session"
   ]
  },
  {
   "cell_type": "code",
   "execution_count": 2,
   "id": "97837879",
   "metadata": {
    "execution": {
     "iopub.execute_input": "2022-10-20T20:00:06.038200Z",
     "iopub.status.busy": "2022-10-20T20:00:06.037533Z",
     "iopub.status.idle": "2022-10-20T20:00:06.764942Z",
     "shell.execute_reply": "2022-10-20T20:00:06.763861Z"
    },
    "papermill": {
     "duration": 0.73709,
     "end_time": "2022-10-20T20:00:06.767172",
     "exception": false,
     "start_time": "2022-10-20T20:00:06.030082",
     "status": "completed"
    },
    "tags": []
   },
   "outputs": [],
   "source": [
    "import pandas as pd\n",
    "data=pd.read_csv('../input/prudential-life-insurance-assessment/train.csv.zip')\n",
    "scoring_data=pd.read_csv('../input/prudential-life-insurance-assessment/test.csv.zip')"
   ]
  },
  {
   "cell_type": "markdown",
   "id": "3920e716",
   "metadata": {
    "papermill": {
     "duration": 0.005682,
     "end_time": "2022-10-20T20:00:06.779049",
     "exception": false,
     "start_time": "2022-10-20T20:00:06.773367",
     "status": "completed"
    },
    "tags": []
   },
   "source": [
    "****check for nan in data"
   ]
  },
  {
   "cell_type": "code",
   "execution_count": 3,
   "id": "5b2c156d",
   "metadata": {
    "execution": {
     "iopub.execute_input": "2022-10-20T20:00:06.792457Z",
     "iopub.status.busy": "2022-10-20T20:00:06.792120Z",
     "iopub.status.idle": "2022-10-20T20:00:06.808052Z",
     "shell.execute_reply": "2022-10-20T20:00:06.806346Z"
    },
    "papermill": {
     "duration": 0.02543,
     "end_time": "2022-10-20T20:00:06.810577",
     "exception": false,
     "start_time": "2022-10-20T20:00:06.785147",
     "status": "completed"
    },
    "tags": []
   },
   "outputs": [
    {
     "data": {
      "text/plain": [
       "True"
      ]
     },
     "execution_count": 3,
     "metadata": {},
     "output_type": "execute_result"
    }
   ],
   "source": [
    "data.isna().values.any()"
   ]
  },
  {
   "cell_type": "markdown",
   "id": "e80917ff",
   "metadata": {
    "papermill": {
     "duration": 0.007255,
     "end_time": "2022-10-20T20:00:06.827090",
     "exception": false,
     "start_time": "2022-10-20T20:00:06.819835",
     "status": "completed"
    },
    "tags": []
   },
   "source": [
    "**We start by analysing number of nulls **"
   ]
  },
  {
   "cell_type": "code",
   "execution_count": 4,
   "id": "d38c1931",
   "metadata": {
    "execution": {
     "iopub.execute_input": "2022-10-20T20:00:06.847808Z",
     "iopub.status.busy": "2022-10-20T20:00:06.847073Z",
     "iopub.status.idle": "2022-10-20T20:00:06.866585Z",
     "shell.execute_reply": "2022-10-20T20:00:06.865690Z"
    },
    "papermill": {
     "duration": 0.032758,
     "end_time": "2022-10-20T20:00:06.869537",
     "exception": false,
     "start_time": "2022-10-20T20:00:06.836779",
     "status": "completed"
    },
    "tags": []
   },
   "outputs": [
    {
     "name": "stdout",
     "output_type": "stream",
     "text": [
      "shape of input data set is (59381, 128)\n",
      "total number of columns with all values NaN are 0\n",
      "total number of columns with atleast one NaN are 13\n"
     ]
    }
   ],
   "source": [
    "print(\"shape of input data set is {}\".format(data.shape))\n",
    "print(\"total number of columns with all values NaN are {}\".format(data.isna().all().values.sum()))\n",
    "print(\"total number of columns with atleast one NaN are {}\".format(data.isna().any().values.sum()))"
   ]
  },
  {
   "cell_type": "markdown",
   "id": "ab4e015a",
   "metadata": {
    "papermill": {
     "duration": 0.007537,
     "end_time": "2022-10-20T20:00:06.884901",
     "exception": false,
     "start_time": "2022-10-20T20:00:06.877364",
     "status": "completed"
    },
    "tags": []
   },
   "source": [
    "**We see that each row has atleast one NaN but each time it belongs to a different column. So we cant use data.dropna() - that would delete all the rows. Let's find column-wise sum of all NaNs.**"
   ]
  },
  {
   "cell_type": "code",
   "execution_count": 5,
   "id": "a79b197c",
   "metadata": {
    "execution": {
     "iopub.execute_input": "2022-10-20T20:00:06.899857Z",
     "iopub.status.busy": "2022-10-20T20:00:06.899463Z",
     "iopub.status.idle": "2022-10-20T20:00:06.923242Z",
     "shell.execute_reply": "2022-10-20T20:00:06.922551Z"
    },
    "papermill": {
     "duration": 0.033412,
     "end_time": "2022-10-20T20:00:06.925373",
     "exception": false,
     "start_time": "2022-10-20T20:00:06.891961",
     "status": "completed"
    },
    "tags": []
   },
   "outputs": [
    {
     "data": {
      "text/plain": [
       "Employment_Info_1         19\n",
       "Employment_Info_4       6779\n",
       "Employment_Info_6      10854\n",
       "Insurance_History_5    25396\n",
       "Family_Hist_2          28656\n",
       "Family_Hist_3          34241\n",
       "Family_Hist_4          19184\n",
       "Family_Hist_5          41811\n",
       "Medical_History_1       8889\n",
       "Medical_History_10     58824\n",
       "Medical_History_15     44596\n",
       "Medical_History_24     55580\n",
       "Medical_History_32     58274\n",
       "dtype: int64"
      ]
     },
     "execution_count": 5,
     "metadata": {},
     "output_type": "execute_result"
    }
   ],
   "source": [
    "cols_null=data.columns[data.isna().any()]\n",
    "data[cols_null].isna().sum()"
   ]
  },
  {
   "cell_type": "markdown",
   "id": "4d6ef53d",
   "metadata": {
    "papermill": {
     "duration": 0.005943,
     "end_time": "2022-10-20T20:00:06.940970",
     "exception": false,
     "start_time": "2022-10-20T20:00:06.935027",
     "status": "completed"
    },
    "tags": []
   },
   "source": [
    "**We need to decide on the number of NaN values that are accpeted in a feature that is used for training the data set** Lets choose 6000 to be the number. We need to remove all the columns with NaN values more than 6k to be removed from dataset -data.(we could also have used missing data as a feature by tagging it as zero)"
   ]
  },
  {
   "cell_type": "code",
   "execution_count": 6,
   "id": "0eb6471f",
   "metadata": {
    "execution": {
     "iopub.execute_input": "2022-10-20T20:00:06.955531Z",
     "iopub.status.busy": "2022-10-20T20:00:06.954961Z",
     "iopub.status.idle": "2022-10-20T20:00:07.002577Z",
     "shell.execute_reply": "2022-10-20T20:00:07.001694Z"
    },
    "papermill": {
     "duration": 0.057667,
     "end_time": "2022-10-20T20:00:07.005020",
     "exception": false,
     "start_time": "2022-10-20T20:00:06.947353",
     "status": "completed"
    },
    "tags": []
   },
   "outputs": [
    {
     "data": {
      "text/plain": [
       "0"
      ]
     },
     "execution_count": 6,
     "metadata": {},
     "output_type": "execute_result"
    }
   ],
   "source": [
    "cols_drop=data[cols_null].isna().sum()>6000\n",
    "cols_not_drop=data[cols_null].isna().sum()<6000\n",
    "\n",
    "#creating object names of columns from boolean cols_drop\n",
    "drop_col_obj=cols_drop.index[cols_drop]\n",
    "dataset=data.drop(drop_col_obj,axis=1)\n",
    "\n",
    "#we also need to replace the NaN of 'Employment_info_1' - lets replace it with the mean value of the column\n",
    "replace_col=cols_not_drop.index[cols_not_drop]\n",
    "dataset[replace_col]=dataset[replace_col].replace(np.nan,dataset[replace_col].mean())\n",
    "\n",
    "#check if we have missed any nulls\n",
    "dataset.isna().any().sum()"
   ]
  },
  {
   "cell_type": "markdown",
   "id": "2ebf8e22",
   "metadata": {
    "papermill": {
     "duration": 0.009421,
     "end_time": "2022-10-20T20:00:07.024756",
     "exception": false,
     "start_time": "2022-10-20T20:00:07.015335",
     "status": "completed"
    },
    "tags": []
   },
   "source": [
    "**Let's explore the training dataset now**. \n",
    "Here is a list of feature selection techniques that we can use-\n",
    "1. Remove features that have very low variance\n",
    "2. Remove of one of the 2 features if there is a high correlation between them.\n",
    "3. Remove features with very low correlation with the target.\n",
    "4. Add loop to go through different features and select those which provide the best results.\n",
    "5. LASSO- Least Absolute Shrinkage and Selection Order.\n",
    "6. Tree based - forest trees to evalute importance of features/PCA/ Cluster analysis"
   ]
  },
  {
   "cell_type": "markdown",
   "id": "c676f972",
   "metadata": {
    "papermill": {
     "duration": 0.008894,
     "end_time": "2022-10-20T20:00:07.042738",
     "exception": false,
     "start_time": "2022-10-20T20:00:07.033844",
     "status": "completed"
    },
    "tags": []
   },
   "source": [
    "**First check if all features are of type int or float**"
   ]
  },
  {
   "cell_type": "code",
   "execution_count": 7,
   "id": "b128b474",
   "metadata": {
    "execution": {
     "iopub.execute_input": "2022-10-20T20:00:07.063998Z",
     "iopub.status.busy": "2022-10-20T20:00:07.062083Z",
     "iopub.status.idle": "2022-10-20T20:00:07.081937Z",
     "shell.execute_reply": "2022-10-20T20:00:07.080896Z"
    },
    "papermill": {
     "duration": 0.032363,
     "end_time": "2022-10-20T20:00:07.084189",
     "exception": false,
     "start_time": "2022-10-20T20:00:07.051826",
     "status": "completed"
    },
    "tags": []
   },
   "outputs": [
    {
     "name": "stdout",
     "output_type": "stream",
     "text": [
      "[dtype('int64') dtype('O') dtype('float64')]\n",
      "Index(['Product_Info_2'], dtype='object')\n",
      " the number of unique items are ['D3' 'A1' 'E1' 'D4' 'D2' 'A8' 'A2' 'D1' 'A7' 'A6' 'A3' 'A5' 'C4' 'C1'\n",
      " 'B2' 'C3' 'C2' 'A4' 'B1']\n"
     ]
    }
   ],
   "source": [
    "#to find different types of datatypes used in dataset\n",
    "print(dataset.dtypes.unique())\n",
    "\n",
    "#to find which columns have datatype not as int64 or float64\n",
    "obj_col_name=dataset.select_dtypes(include=['object']).columns\n",
    "print(obj_col_name)\n",
    "\n",
    "obj_data=dataset[obj_col_name]\n",
    " \n",
    "col_one_hot=obj_data.Product_Info_2.unique()\n",
    "#to find number of unique values in the datatype which has type 'O'\n",
    "print(\" the number of unique items are\",col_one_hot)\n"
   ]
  },
  {
   "cell_type": "markdown",
   "id": "7695f195",
   "metadata": {
    "papermill": {
     "duration": 0.008346,
     "end_time": "2022-10-20T20:00:07.099246",
     "exception": false,
     "start_time": "2022-10-20T20:00:07.090900",
     "status": "completed"
    },
    "tags": []
   },
   "source": [
    "***We use one hot encoding to convert \"Product_Info_2\" into differenet lablels*** we are doing this before split in this case. This is debatable as it could lead to data leakage in many cases"
   ]
  },
  {
   "cell_type": "code",
   "execution_count": 8,
   "id": "703c8ffe",
   "metadata": {
    "execution": {
     "iopub.execute_input": "2022-10-20T20:00:07.115289Z",
     "iopub.status.busy": "2022-10-20T20:00:07.114970Z",
     "iopub.status.idle": "2022-10-20T20:00:07.211786Z",
     "shell.execute_reply": "2022-10-20T20:00:07.210405Z"
    },
    "papermill": {
     "duration": 0.107201,
     "end_time": "2022-10-20T20:00:07.214113",
     "exception": false,
     "start_time": "2022-10-20T20:00:07.106912",
     "status": "completed"
    },
    "tags": []
   },
   "outputs": [],
   "source": [
    "one_hot_enc=pd.get_dummies(obj_data.Product_Info_2)\n",
    "\n",
    "#drop the feature with type object\n",
    "dataset=dataset.drop(['Product_Info_2'],axis=1)\n",
    "\n",
    "#we can also drop the id column as it is only the serial number\n",
    "dataset=dataset.drop(['Id'],axis=1)\n",
    "\n",
    "#now we append one_hot_enc to out dataset\n",
    "dataset=pd.concat([dataset.reset_index(),one_hot_enc.reset_index()],axis=1).drop(['index'],axis=1)\n"
   ]
  },
  {
   "cell_type": "markdown",
   "id": "fdc90ff9",
   "metadata": {
    "papermill": {
     "duration": 0.008412,
     "end_time": "2022-10-20T20:00:07.229565",
     "exception": false,
     "start_time": "2022-10-20T20:00:07.221153",
     "status": "completed"
    },
    "tags": []
   },
   "source": [
    "**Test train split**"
   ]
  },
  {
   "cell_type": "code",
   "execution_count": 9,
   "id": "4b54a6e4",
   "metadata": {
    "execution": {
     "iopub.execute_input": "2022-10-20T20:00:07.246691Z",
     "iopub.status.busy": "2022-10-20T20:00:07.245157Z",
     "iopub.status.idle": "2022-10-20T20:00:08.411265Z",
     "shell.execute_reply": "2022-10-20T20:00:08.409489Z"
    },
    "papermill": {
     "duration": 1.176607,
     "end_time": "2022-10-20T20:00:08.413841",
     "exception": false,
     "start_time": "2022-10-20T20:00:07.237234",
     "status": "completed"
    },
    "tags": []
   },
   "outputs": [],
   "source": [
    "#first split dataset into X and y\n",
    "X= dataset.drop(['Response'],axis=1)\n",
    "\n",
    "y= dataset['Response']\n",
    "\n",
    "#now split X,y into train and test\n",
    "from sklearn.model_selection import train_test_split\n",
    "X_train,X_test,y_train,y_test=train_test_split(X,y,test_size=0.33,random_state=20)"
   ]
  },
  {
   "cell_type": "code",
   "execution_count": 10,
   "id": "2337b516",
   "metadata": {
    "execution": {
     "iopub.execute_input": "2022-10-20T20:00:08.429729Z",
     "iopub.status.busy": "2022-10-20T20:00:08.429390Z",
     "iopub.status.idle": "2022-10-20T20:00:08.441006Z",
     "shell.execute_reply": "2022-10-20T20:00:08.440150Z"
    },
    "papermill": {
     "duration": 0.022286,
     "end_time": "2022-10-20T20:00:08.442729",
     "exception": false,
     "start_time": "2022-10-20T20:00:08.420443",
     "status": "completed"
    },
    "tags": []
   },
   "outputs": [
    {
     "data": {
      "text/plain": [
       "0"
      ]
     },
     "execution_count": 10,
     "metadata": {},
     "output_type": "execute_result"
    }
   ],
   "source": [
    "#check for Nan in X here\n",
    "X.isna().any().sum()"
   ]
  },
  {
   "cell_type": "code",
   "execution_count": 11,
   "id": "300e3870",
   "metadata": {
    "execution": {
     "iopub.execute_input": "2022-10-20T20:00:08.457580Z",
     "iopub.status.busy": "2022-10-20T20:00:08.457226Z",
     "iopub.status.idle": "2022-10-20T20:00:08.465057Z",
     "shell.execute_reply": "2022-10-20T20:00:08.463913Z"
    },
    "papermill": {
     "duration": 0.018141,
     "end_time": "2022-10-20T20:00:08.467367",
     "exception": false,
     "start_time": "2022-10-20T20:00:08.449226",
     "status": "completed"
    },
    "tags": []
   },
   "outputs": [
    {
     "name": "stdout",
     "output_type": "stream",
     "text": [
      "number of unique values of response are 8\n",
      "the unique values of response are [2 8 4 6 7 1 5 3]\n"
     ]
    }
   ],
   "source": [
    "#let's check number of unique values of 'Response'\n",
    "print('number of unique values of response are {}'.format(y_train.nunique()))\n",
    "print('the unique values of response are {}'.format(y_train.unique()))"
   ]
  },
  {
   "cell_type": "markdown",
   "id": "f28b5691",
   "metadata": {
    "papermill": {
     "duration": 0.006514,
     "end_time": "2022-10-20T20:00:08.480662",
     "exception": false,
     "start_time": "2022-10-20T20:00:08.474148",
     "status": "completed"
    },
    "tags": []
   },
   "source": [
    "**We should check variance of each feature before applying fit transform and training the dataset**"
   ]
  },
  {
   "cell_type": "code",
   "execution_count": 12,
   "id": "5a558c62",
   "metadata": {
    "execution": {
     "iopub.execute_input": "2022-10-20T20:00:08.495628Z",
     "iopub.status.busy": "2022-10-20T20:00:08.495296Z",
     "iopub.status.idle": "2022-10-20T20:00:08.530863Z",
     "shell.execute_reply": "2022-10-20T20:00:08.529839Z"
    },
    "papermill": {
     "duration": 0.045711,
     "end_time": "2022-10-20T20:00:08.533084",
     "exception": false,
     "start_time": "2022-10-20T20:00:08.487373",
     "status": "completed"
    },
    "tags": []
   },
   "outputs": [
    {
     "name": "stdout",
     "output_type": "stream",
     "text": [
      "Medical_History_2      31804.885811\n",
      "Product_Info_3            25.886860\n",
      "Employment_Info_2         17.829969\n",
      "InsuredInfo_3              7.143939\n",
      "Insurance_History_3        0.980244\n",
      "                           ...     \n",
      "C4                         0.003806\n",
      "Medical_History_35         0.003742\n",
      "A4                         0.003507\n",
      "C2                         0.002682\n",
      "B1                         0.000979\n",
      "Length: 132, dtype: float64\n",
      "\n",
      "\n",
      "Number of unique items in Medical_History_2 are  522\n"
     ]
    }
   ],
   "source": [
    "print(X_train.var().sort_values(ascending=False))\n",
    "print(\"\\n\\nNumber of unique items in Medical_History_2 are \",X_train['Medical_History_2'].nunique())"
   ]
  },
  {
   "cell_type": "code",
   "execution_count": 13,
   "id": "6097a7a9",
   "metadata": {
    "execution": {
     "iopub.execute_input": "2022-10-20T20:00:08.548867Z",
     "iopub.status.busy": "2022-10-20T20:00:08.548572Z",
     "iopub.status.idle": "2022-10-20T20:00:08.557272Z",
     "shell.execute_reply": "2022-10-20T20:00:08.556371Z"
    },
    "papermill": {
     "duration": 0.019572,
     "end_time": "2022-10-20T20:00:08.560156",
     "exception": false,
     "start_time": "2022-10-20T20:00:08.540584",
     "status": "completed"
    },
    "tags": []
   },
   "outputs": [
    {
     "data": {
      "text/plain": [
       "0"
      ]
     },
     "execution_count": 13,
     "metadata": {},
     "output_type": "execute_result"
    }
   ],
   "source": [
    "#check for Nan here in X_train\n",
    "X_train.isna().any().sum()"
   ]
  },
  {
   "cell_type": "code",
   "execution_count": 14,
   "id": "28d1abc6",
   "metadata": {
    "execution": {
     "iopub.execute_input": "2022-10-20T20:00:08.576068Z",
     "iopub.status.busy": "2022-10-20T20:00:08.574910Z",
     "iopub.status.idle": "2022-10-20T20:00:08.607557Z",
     "shell.execute_reply": "2022-10-20T20:00:08.606355Z"
    },
    "papermill": {
     "duration": 0.042907,
     "end_time": "2022-10-20T20:00:08.610051",
     "exception": false,
     "start_time": "2022-10-20T20:00:08.567144",
     "status": "completed"
    },
    "tags": []
   },
   "outputs": [
    {
     "name": "stdout",
     "output_type": "stream",
     "text": [
      "\n",
      "Total 8 features selected by setting minimum required varince to 0.8, these are ['Medical_History_2', 'Product_Info_3', 'Employment_Info_2', 'InsuredInfo_3', 'Insurance_History_3', 'Insurance_History_7', 'Insurance_History_4', 'Medical_History_41']\n"
     ]
    }
   ],
   "source": [
    "#selecting features which have variance greater than 0.8\n",
    "fea_sort=X_train.var().sort_values(ascending=False)\n",
    "\n",
    "#defining an array which would store features with high variance\n",
    "fea_hig_var=[]\n",
    "\n",
    "#minimum required threshold variance of a feature \n",
    "minimum_var=0.8\n",
    "i=0\n",
    "while fea_sort[i]>minimum_var:\n",
    "    fea_hig_var.append(fea_sort.index[i])\n",
    "    i=i+1\n",
    "        \n",
    "print('\\nTotal {} features selected by setting minimum required varince to {}, these are {}'.format(i,minimum_var,fea_hig_var) )"
   ]
  },
  {
   "cell_type": "code",
   "execution_count": 15,
   "id": "8bdde947",
   "metadata": {
    "execution": {
     "iopub.execute_input": "2022-10-20T20:00:08.626812Z",
     "iopub.status.busy": "2022-10-20T20:00:08.626478Z",
     "iopub.status.idle": "2022-10-20T20:00:08.632995Z",
     "shell.execute_reply": "2022-10-20T20:00:08.631964Z"
    },
    "papermill": {
     "duration": 0.017489,
     "end_time": "2022-10-20T20:00:08.634973",
     "exception": false,
     "start_time": "2022-10-20T20:00:08.617484",
     "status": "completed"
    },
    "tags": []
   },
   "outputs": [],
   "source": [
    "#we select the high varince features for train and test\n",
    "X_train_high=X_train[fea_hig_var]\n",
    "X_test_high=X_test[fea_hig_var]"
   ]
  },
  {
   "cell_type": "markdown",
   "id": "e3102442",
   "metadata": {
    "papermill": {
     "duration": 0.006678,
     "end_time": "2022-10-20T20:00:08.648606",
     "exception": false,
     "start_time": "2022-10-20T20:00:08.641928",
     "status": "completed"
    },
    "tags": []
   },
   "source": [
    "***MI index for feature selection***"
   ]
  },
  {
   "cell_type": "code",
   "execution_count": 16,
   "id": "a7ead555",
   "metadata": {
    "_kg_hide-output": true,
    "execution": {
     "iopub.execute_input": "2022-10-20T20:00:08.663918Z",
     "iopub.status.busy": "2022-10-20T20:00:08.663643Z",
     "iopub.status.idle": "2022-10-20T20:00:08.815173Z",
     "shell.execute_reply": "2022-10-20T20:00:08.813794Z"
    },
    "papermill": {
     "duration": 0.161813,
     "end_time": "2022-10-20T20:00:08.817524",
     "exception": false,
     "start_time": "2022-10-20T20:00:08.655711",
     "status": "completed"
    },
    "tags": []
   },
   "outputs": [],
   "source": [
    "from sklearn.feature_selection import mutual_info_classif\n",
    "\n",
    "# Define a custom function that calculates Mutual Information (MI) scores for a given dataset.\n",
    "def make_mi_scores(X, y):\n",
    "    mi_scores = mutual_info_classif(X, y)\n",
    "    mi_scores = pd.Series(mi_scores, name=\"MI Scores\", index=X.columns)\n",
    "    mi_scores = mi_scores.sort_values(ascending=False)\n",
    "    return mi_scores\n",
    "\n",
    "# Define a custom function that plots MI scores in descending order (i.e. most important to least important).\n",
    "def plot_mi_scores(scores):\n",
    "    scores = scores.sort_values(ascending=True)\n",
    "    width = np.arange(len(scores))\n",
    "    ticks = list(scores.index)\n",
    "    plt.barh(width, scores)\n",
    "    plt.yticks(width, ticks)\n",
    "    plt.title(\"Mutual Information Scores\")"
   ]
  },
  {
   "cell_type": "code",
   "execution_count": 17,
   "id": "73bd5cca",
   "metadata": {
    "execution": {
     "iopub.execute_input": "2022-10-20T20:00:08.833783Z",
     "iopub.status.busy": "2022-10-20T20:00:08.833397Z",
     "iopub.status.idle": "2022-10-20T20:00:32.555199Z",
     "shell.execute_reply": "2022-10-20T20:00:32.554030Z"
    },
    "papermill": {
     "duration": 23.732828,
     "end_time": "2022-10-20T20:00:32.557528",
     "exception": false,
     "start_time": "2022-10-20T20:00:08.824700",
     "status": "completed"
    },
    "tags": []
   },
   "outputs": [
    {
     "data": {
      "image/png": "[encoded data removed]",
      "text/plain": [
       "<Figure size 1000x2500 with 1 Axes>"
      ]
     },
     "metadata": {
      "needs_background": "light"
     },
     "output_type": "display_data"
    }
   ],
   "source": [
    "# Calculate MI scores on the validation dataset.\n",
    "import matplotlib.pyplot as plt\n",
    "mi_scores_X_valid = make_mi_scores(X_train, y_train)\n",
    "\n",
    "# Plot the MI scores obtained from the validation dataset.\n",
    "plt.figure(dpi=50, figsize=(20,50))\n",
    "plot_mi_scores(mi_scores_X_valid)"
   ]
  },
  {
   "cell_type": "markdown",
   "id": "5be737f7",
   "metadata": {
    "papermill": {
     "duration": 0.007502,
     "end_time": "2022-10-20T20:00:32.572957",
     "exception": false,
     "start_time": "2022-10-20T20:00:32.565455",
     "status": "completed"
    },
    "tags": []
   },
   "source": [
    "***Lets select features with MI index greater than 0.01 ***"
   ]
  },
  {
   "cell_type": "code",
   "execution_count": 18,
   "id": "f6923dfa",
   "metadata": {
    "execution": {
     "iopub.execute_input": "2022-10-20T20:00:32.589512Z",
     "iopub.status.busy": "2022-10-20T20:00:32.589134Z",
     "iopub.status.idle": "2022-10-20T20:00:32.599528Z",
     "shell.execute_reply": "2022-10-20T20:00:32.598373Z"
    },
    "papermill": {
     "duration": 0.021372,
     "end_time": "2022-10-20T20:00:32.601863",
     "exception": false,
     "start_time": "2022-10-20T20:00:32.580491",
     "status": "completed"
    },
    "tags": []
   },
   "outputs": [],
   "source": [
    "mi_compare=mi_scores_X_valid.gt(0.01)\n",
    "mi_features=mi_scores_X_valid[mi_compare].index\n",
    "X_train_mi=X_train[mi_features]\n",
    "X_test_mi=X_test[mi_features]"
   ]
  },
  {
   "cell_type": "code",
   "execution_count": 19,
   "id": "e6a27629",
   "metadata": {
    "execution": {
     "iopub.execute_input": "2022-10-20T20:00:32.620242Z",
     "iopub.status.busy": "2022-10-20T20:00:32.619893Z",
     "iopub.status.idle": "2022-10-20T20:00:35.269218Z",
     "shell.execute_reply": "2022-10-20T20:00:35.267406Z"
    },
    "papermill": {
     "duration": 2.661162,
     "end_time": "2022-10-20T20:00:35.271443",
     "exception": false,
     "start_time": "2022-10-20T20:00:32.610281",
     "status": "completed"
    },
    "tags": []
   },
   "outputs": [
    {
     "name": "stdout",
     "output_type": "stream",
     "text": [
      "8\n"
     ]
    }
   ],
   "source": [
    "from sklearn.ensemble import RandomForestClassifier\n",
    "from sklearn.metrics import accuracy_score, confusion_matrix\n",
    "\n",
    "rf = RandomForestClassifier(random_state=42, n_estimators=30, max_depth=20, criterion = 'entropy', \n",
    "                            min_samples_leaf= 3,min_samples_split= 3)\n",
    "rf=rf.fit(X_train_mi,y_train)\n",
    "y_pred=rf.predict(X_test_mi)\n",
    "print(len(np.unique(y_pred)))"
   ]
  },
  {
   "cell_type": "code",
   "execution_count": 20,
   "id": "66efafa9",
   "metadata": {
    "execution": {
     "iopub.execute_input": "2022-10-20T20:00:35.290389Z",
     "iopub.status.busy": "2022-10-20T20:00:35.289661Z",
     "iopub.status.idle": "2022-10-20T20:00:35.748772Z",
     "shell.execute_reply": "2022-10-20T20:00:35.747364Z"
    },
    "papermill": {
     "duration": 0.471393,
     "end_time": "2022-10-20T20:00:35.751140",
     "exception": false,
     "start_time": "2022-10-20T20:00:35.279747",
     "status": "completed"
    },
    "tags": []
   },
   "outputs": [
    {
     "name": "stdout",
     "output_type": "stream",
     "text": [
      "0.753952494658791\n",
      "0.518269034496836\n"
     ]
    }
   ],
   "source": [
    "y_predict_train_rf = rf.predict(X_train_mi)\n",
    "y_predict_test_rf = rf.predict(X_test_mi)\n",
    "\n",
    "train_accuracy_score_rf = accuracy_score(y_train, y_predict_train_rf)\n",
    "test_accuracy_score_rf = accuracy_score(y_test, y_predict_test_rf)\n",
    "\n",
    "print(train_accuracy_score_rf)\n",
    "print(test_accuracy_score_rf)"
   ]
  },
  {
   "cell_type": "markdown",
   "id": "0f1cafa7",
   "metadata": {
    "papermill": {
     "duration": 0.008982,
     "end_time": "2022-10-20T20:00:35.768930",
     "exception": false,
     "start_time": "2022-10-20T20:00:35.759948",
     "status": "completed"
    },
    "tags": []
   },
   "source": [
    "***The test accuracy is not going above 52 on varying threshold mi index, or rf parameter***"
   ]
  }
 ],
 "metadata": {
  "kernelspec": {
   "display_name": "Python 3",
   "language": "python",
   "name": "python3"
  },
  "language_info": {
   "codemirror_mode": {
    "name": "ipython",
    "version": 3
   },
   "file_extension": ".py",
   "mimetype": "text/x-python",
   "name": "python",
   "nbconvert_exporter": "python",
   "pygments_lexer": "ipython3",
   "version": "3.7.12"
  },
  "papermill": {
   "default_parameters": {},
   "duration": 37.891151,
   "end_time": "2022-10-20T20:00:36.499831",
   "environment_variables": {},
   "exception": null,
   "input_path": "__notebook__.ipynb",
   "output_path": "__notebook__.ipynb",
   "parameters": {},
   "start_time": "2022-10-20T19:59:58.608680",
   "version": "2.3.4"
  }
 },
 "nbformat": 4,
 "nbformat_minor": 5
}
